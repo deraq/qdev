{
 "cells": [
  {
   "cell_type": "code",
   "execution_count": 7,
   "metadata": {
    "collapsed": true
   },
   "outputs": [],
   "source": [
    "# This notebook is me getting used to R programming"
   ]
  },
  {
   "cell_type": "markdown",
   "metadata": {},
   "source": [
    "Here's some code to check a dataset for 'speeders' and 'cheaters'."
   ]
  },
  {
   "cell_type": "code",
   "execution_count": 12,
   "metadata": {
    "collapsed": true
   },
   "outputs": [],
   "source": [
    "df <- read.csv(file = \"CS_MD_surveyData.csv\",header = TRUE, sep=\",\")\n",
    "check_data <- function(df,exclude_col=c(1),tol=.5) {\n",
    "    out <- c()\n",
    "    D <- data.matrix(df[,-exclude_col]) # convert to matrix type\n",
    "    row_var <- apply(D,1,var) # apply the variance function to D row-wise\n",
    "    return(df[(row_var <= tol),])\n",
    "}"
   ]
  },
  {
   "cell_type": "code",
   "execution_count": 13,
   "metadata": {},
   "outputs": [
    {
     "data": {
      "text/html": [
       "<table>\n",
       "<thead><tr><th></th><th scope=col>RID</th><th scope=col>version</th><th scope=col>MD1_2</th><th scope=col>MD1_1</th><th scope=col>MD2_2</th><th scope=col>MD2_1</th><th scope=col>MD3_2</th><th scope=col>MD3_1</th><th scope=col>MD4_2</th><th scope=col>MD4_1</th><th scope=col>MD5_2</th><th scope=col>MD5_1</th><th scope=col>MD6_2</th><th scope=col>MD6_1</th><th scope=col>MD7_2</th><th scope=col>MD7_1</th><th scope=col>MD8_2</th><th scope=col>MD8_1</th><th scope=col>MD9_2</th><th scope=col>MD9_1</th></tr></thead>\n",
       "<tbody>\n",
       "\t<tr><th scope=row>29</th><td>R_2siCOBAqsu7TMf7</td><td>57               </td><td>2                </td><td>1                </td><td>2                </td><td>1                </td><td>2                </td><td>3                </td><td>1                </td><td>2                </td><td>2                </td><td>1                </td><td>2                </td><td>1                </td><td>2                </td><td>1                </td><td>2                </td><td>1                </td><td>2                </td><td>1                </td></tr>\n",
       "\t<tr><th scope=row>122</th><td>R_3hfpmBsnF0VLX63</td><td>23               </td><td>3                </td><td>4                </td><td>4                </td><td>3                </td><td>4                </td><td>3                </td><td>3                </td><td>4                </td><td>3                </td><td>4                </td><td>4                </td><td>3                </td><td>3                </td><td>4                </td><td>4                </td><td>3                </td><td>3                </td><td>4                </td></tr>\n",
       "\t<tr><th scope=row>157</th><td>R_2wBtUeO8Hb0HrIv</td><td>95               </td><td>1                </td><td>2                </td><td>1                </td><td>2                </td><td>1                </td><td>2                </td><td>1                </td><td>3                </td><td>1                </td><td>2                </td><td>1                </td><td>2                </td><td>1                </td><td>2                </td><td>1                </td><td>2                </td><td>1                </td><td>3                </td></tr>\n",
       "\t<tr><th scope=row>165</th><td>R_wSQSli53k3NoevT</td><td>66               </td><td>3                </td><td>4                </td><td>3                </td><td>4                </td><td>3                </td><td>4                </td><td>4                </td><td>3                </td><td>4                </td><td>3                </td><td>3                </td><td>4                </td><td>3                </td><td>4                </td><td>4                </td><td>3                </td><td>4                </td><td>3                </td></tr>\n",
       "\t<tr><th scope=row>249</th><td>R_1nTUcmofcs0tWBs</td><td>41               </td><td>3                </td><td>4                </td><td>3                </td><td>4                </td><td>4                </td><td>3                </td><td>3                </td><td>4                </td><td>4                </td><td>3                </td><td>3                </td><td>4                </td><td>3                </td><td>4                </td><td>4                </td><td>3                </td><td>3                </td><td>4                </td></tr>\n",
       "\t<tr><th scope=row>286</th><td>R_29fWLBu8MuMRyGw</td><td>77               </td><td>2                </td><td>3                </td><td>2                </td><td>1                </td><td>1                </td><td>2                </td><td>1                </td><td>2                </td><td>1                </td><td>2                </td><td>2                </td><td>1                </td><td>2                </td><td>1                </td><td>2                </td><td>1                </td><td>2                </td><td>1                </td></tr>\n",
       "\t<tr><th scope=row>477</th><td>R_1oFSQY4j8IJYS0N</td><td> 1               </td><td>4                </td><td>3                </td><td>3                </td><td>4                </td><td>4                </td><td>3                </td><td>3                </td><td>4                </td><td>3                </td><td>4                </td><td>3                </td><td>4                </td><td>3                </td><td>4                </td><td>3                </td><td>4                </td><td>3                </td><td>4                </td></tr>\n",
       "</tbody>\n",
       "</table>\n"
      ],
      "text/latex": [
       "\\begin{tabular}{r|llllllllllllllllllll}\n",
       "  & RID & version & MD1\\_2 & MD1\\_1 & MD2\\_2 & MD2\\_1 & MD3\\_2 & MD3\\_1 & MD4\\_2 & MD4\\_1 & MD5\\_2 & MD5\\_1 & MD6\\_2 & MD6\\_1 & MD7\\_2 & MD7\\_1 & MD8\\_2 & MD8\\_1 & MD9\\_2 & MD9\\_1\\\\\n",
       "\\hline\n",
       "\t29 & R\\_2siCOBAqsu7TMf7 & 57                  & 2                   & 1                   & 2                   & 1                   & 2                   & 3                   & 1                   & 2                   & 2                   & 1                   & 2                   & 1                   & 2                   & 1                   & 2                   & 1                   & 2                   & 1                  \\\\\n",
       "\t122 & R\\_3hfpmBsnF0VLX63 & 23                  & 3                   & 4                   & 4                   & 3                   & 4                   & 3                   & 3                   & 4                   & 3                   & 4                   & 4                   & 3                   & 3                   & 4                   & 4                   & 3                   & 3                   & 4                  \\\\\n",
       "\t157 & R\\_2wBtUeO8Hb0HrIv & 95                  & 1                   & 2                   & 1                   & 2                   & 1                   & 2                   & 1                   & 3                   & 1                   & 2                   & 1                   & 2                   & 1                   & 2                   & 1                   & 2                   & 1                   & 3                  \\\\\n",
       "\t165 & R\\_wSQSli53k3NoevT & 66                  & 3                   & 4                   & 3                   & 4                   & 3                   & 4                   & 4                   & 3                   & 4                   & 3                   & 3                   & 4                   & 3                   & 4                   & 4                   & 3                   & 4                   & 3                  \\\\\n",
       "\t249 & R\\_1nTUcmofcs0tWBs & 41                  & 3                   & 4                   & 3                   & 4                   & 4                   & 3                   & 3                   & 4                   & 4                   & 3                   & 3                   & 4                   & 3                   & 4                   & 4                   & 3                   & 3                   & 4                  \\\\\n",
       "\t286 & R\\_29fWLBu8MuMRyGw & 77                  & 2                   & 3                   & 2                   & 1                   & 1                   & 2                   & 1                   & 2                   & 1                   & 2                   & 2                   & 1                   & 2                   & 1                   & 2                   & 1                   & 2                   & 1                  \\\\\n",
       "\t477 & R\\_1oFSQY4j8IJYS0N &  1                  & 4                   & 3                   & 3                   & 4                   & 4                   & 3                   & 3                   & 4                   & 3                   & 4                   & 3                   & 4                   & 3                   & 4                   & 3                   & 4                   & 3                   & 4                  \\\\\n",
       "\\end{tabular}\n"
      ],
      "text/markdown": [
       "\n",
       "| <!--/--> | RID | version | MD1_2 | MD1_1 | MD2_2 | MD2_1 | MD3_2 | MD3_1 | MD4_2 | MD4_1 | MD5_2 | MD5_1 | MD6_2 | MD6_1 | MD7_2 | MD7_1 | MD8_2 | MD8_1 | MD9_2 | MD9_1 | \n",
       "|---|---|---|---|---|---|---|\n",
       "| 29 | R_2siCOBAqsu7TMf7 | 57                | 2                 | 1                 | 2                 | 1                 | 2                 | 3                 | 1                 | 2                 | 2                 | 1                 | 2                 | 1                 | 2                 | 1                 | 2                 | 1                 | 2                 | 1                 | \n",
       "| 122 | R_3hfpmBsnF0VLX63 | 23                | 3                 | 4                 | 4                 | 3                 | 4                 | 3                 | 3                 | 4                 | 3                 | 4                 | 4                 | 3                 | 3                 | 4                 | 4                 | 3                 | 3                 | 4                 | \n",
       "| 157 | R_2wBtUeO8Hb0HrIv | 95                | 1                 | 2                 | 1                 | 2                 | 1                 | 2                 | 1                 | 3                 | 1                 | 2                 | 1                 | 2                 | 1                 | 2                 | 1                 | 2                 | 1                 | 3                 | \n",
       "| 165 | R_wSQSli53k3NoevT | 66                | 3                 | 4                 | 3                 | 4                 | 3                 | 4                 | 4                 | 3                 | 4                 | 3                 | 3                 | 4                 | 3                 | 4                 | 4                 | 3                 | 4                 | 3                 | \n",
       "| 249 | R_1nTUcmofcs0tWBs | 41                | 3                 | 4                 | 3                 | 4                 | 4                 | 3                 | 3                 | 4                 | 4                 | 3                 | 3                 | 4                 | 3                 | 4                 | 4                 | 3                 | 3                 | 4                 | \n",
       "| 286 | R_29fWLBu8MuMRyGw | 77                | 2                 | 3                 | 2                 | 1                 | 1                 | 2                 | 1                 | 2                 | 1                 | 2                 | 2                 | 1                 | 2                 | 1                 | 2                 | 1                 | 2                 | 1                 | \n",
       "| 477 | R_1oFSQY4j8IJYS0N |  1                | 4                 | 3                 | 3                 | 4                 | 4                 | 3                 | 3                 | 4                 | 3                 | 4                 | 3                 | 4                 | 3                 | 4                 | 3                 | 4                 | 3                 | 4                 | \n",
       "\n",
       "\n"
      ],
      "text/plain": [
       "    RID               version MD1_2 MD1_1 MD2_2 MD2_1 MD3_2 MD3_1 MD4_2 MD4_1\n",
       "29  R_2siCOBAqsu7TMf7 57      2     1     2     1     2     3     1     2    \n",
       "122 R_3hfpmBsnF0VLX63 23      3     4     4     3     4     3     3     4    \n",
       "157 R_2wBtUeO8Hb0HrIv 95      1     2     1     2     1     2     1     3    \n",
       "165 R_wSQSli53k3NoevT 66      3     4     3     4     3     4     4     3    \n",
       "249 R_1nTUcmofcs0tWBs 41      3     4     3     4     4     3     3     4    \n",
       "286 R_29fWLBu8MuMRyGw 77      2     3     2     1     1     2     1     2    \n",
       "477 R_1oFSQY4j8IJYS0N  1      4     3     3     4     4     3     3     4    \n",
       "    MD5_2 MD5_1 MD6_2 MD6_1 MD7_2 MD7_1 MD8_2 MD8_1 MD9_2 MD9_1\n",
       "29  2     1     2     1     2     1     2     1     2     1    \n",
       "122 3     4     4     3     3     4     4     3     3     4    \n",
       "157 1     2     1     2     1     2     1     2     1     3    \n",
       "165 4     3     3     4     3     4     4     3     4     3    \n",
       "249 4     3     3     4     3     4     4     3     3     4    \n",
       "286 1     2     2     1     2     1     2     1     2     1    \n",
       "477 3     4     3     4     3     4     3     4     3     4    "
      ]
     },
     "metadata": {},
     "output_type": "display_data"
    }
   ],
   "source": [
    "check_data(df)"
   ]
  },
  {
   "cell_type": "code",
   "execution_count": null,
   "metadata": {
    "collapsed": true
   },
   "outputs": [],
   "source": []
  }
 ],
 "metadata": {
  "kernelspec": {
   "display_name": "R",
   "language": "R",
   "name": "ir"
  },
  "language_info": {
   "codemirror_mode": "r",
   "file_extension": ".r",
   "mimetype": "text/x-r-source",
   "name": "R",
   "pygments_lexer": "r",
   "version": "3.4.2"
  }
 },
 "nbformat": 4,
 "nbformat_minor": 2
}
